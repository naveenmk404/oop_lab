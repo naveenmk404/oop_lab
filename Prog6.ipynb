{
  "nbformat": 4,
  "nbformat_minor": 0,
  "metadata": {
    "colab": {
      "provenance": [],
      "authorship_tag": "ABX9TyN4as/wrW3JmQRMttbXY+5K",
      "include_colab_link": true
    },
    "kernelspec": {
      "name": "python3",
      "display_name": "Python 3"
    },
    "language_info": {
      "name": "python"
    }
  },
  "cells": [
    {
      "cell_type": "markdown",
      "metadata": {
        "id": "view-in-github",
        "colab_type": "text"
      },
      "source": [
        "<a href=\"https://colab.research.google.com/github/naveenmk404/OOP_Lab_1BM22AI404/blob/main/Prog6.ipynb\" target=\"_parent\"><img src=\"https://colab.research.google.com/assets/colab-badge.svg\" alt=\"Open In Colab\"/></a>"
      ]
    },
    {
      "cell_type": "markdown",
      "source": [
        "**exception AgeInvalid( )**"
      ],
      "metadata": {
        "id": "wAqPSOrahVUS"
      }
    },
    {
      "cell_type": "code",
      "execution_count": 3,
      "metadata": {
        "colab": {
          "base_uri": "https://localhost:8080/"
        },
        "id": "PjrPP_X-g--4",
        "outputId": "a4133d06-63cf-4bf4-dd2d-501a3145d023"
      },
      "outputs": [
        {
          "output_type": "stream",
          "name": "stdout",
          "text": [
            "Son's age can not be greater than or equal to father's age\n"
          ]
        }
      ],
      "source": [
        "class WrongAge(Exception):\n",
        "    pass\n",
        "\n",
        "class AgeInvalid(Exception):\n",
        "    pass\n",
        "\n",
        "class Father:\n",
        "    def __init__(self, age):\n",
        "        if age < 0:\n",
        "            raise WrongAge(\"Age can not be negative\")\n",
        "        self.age = age\n",
        "\n",
        "\n",
        "class Son(Father):\n",
        "    def __init__(self, father_age, son_age):\n",
        "        super().__init__(father_age)\n",
        "        if son_age >= father_age:\n",
        "            raise AgeInvalid(\"Son's age can not be greater than or equal to father's age\")\n",
        "        self.son_age = son_age\n",
        "\n",
        "\n",
        "try:\n",
        "    father = Father(0)\n",
        "except WrongAge as e:\n",
        "    print(e)\n",
        "\n",
        "try:\n",
        "    son = Son(40, 50)\n",
        "except WrongAge as e:\n",
        "    print(e)\n",
        "except AgeInvalid as e:\n",
        "    print(e)\n"
      ]
    },
    {
      "cell_type": "markdown",
      "source": [
        "**interactive calculator!**"
      ],
      "metadata": {
        "id": "IQro0RKshX2B"
      }
    },
    {
      "cell_type": "code",
      "source": [
        "class FormulaError(Exception):\n",
        "    pass\n",
        "\n",
        "def calculate():\n",
        "    while True:\n",
        "        user_input = input(\"Enter a formula (e.g. 1 + 1), or 'quit' to exit: \")\n",
        "\n",
        "        if user_input.lower() == \"quit\":\n",
        "            break\n",
        "\n",
        "        try:\n",
        "            formula_list = user_input.split()\n",
        "            if len(formula_list) != 3:\n",
        "                raise FormulaError(\"Invalid formula. The formula should consist of a number, an operator, and another number separated by white space.\")\n",
        "\n",
        "            first_number = float(formula_list[0])\n",
        "            operator = formula_list[1]\n",
        "            second_number = float(formula_list[2])\n",
        "\n",
        "            if operator not in ['+', '-']:\n",
        "                raise FormulaError(\"Invalid operator. Only '+' and '-' operators are supported.\")\n",
        "\n",
        "            if operator == '+':\n",
        "                result = first_number + second_number\n",
        "            else:\n",
        "                result = first_number - second_number\n",
        "\n",
        "            print(f\"The result is: {result}\")\n",
        "\n",
        "        except ValueError:\n",
        "            raise FormulaError(\"Invalid number. Please enter valid numbers.\")\n",
        "\n",
        "        except FormulaError as e:\n",
        "            print(e)\n",
        "\n",
        "        except Exception as e:\n",
        "            print(\"An error occurred:\", e)\n",
        "\n",
        "calculate()\n"
      ],
      "metadata": {
        "colab": {
          "base_uri": "https://localhost:8080/"
        },
        "id": "kbRz8wkyhUmD",
        "outputId": "8d406e3a-5014-4190-ac7d-0121f02a38a7"
      },
      "execution_count": 2,
      "outputs": [
        {
          "name": "stdout",
          "output_type": "stream",
          "text": [
            "Enter a formula (e.g. 1 + 1), or 'quit' to exit: 1 + 1\n",
            "The result is: 2.0\n",
            "Enter a formula (e.g. 1 + 1), or 'quit' to exit: +\n",
            "Invalid formula. The formula should consist of a number, an operator, and another number separated by white space.\n",
            "Enter a formula (e.g. 1 + 1), or 'quit' to exit: quit\n"
          ]
        }
      ]
    }
  ]
}